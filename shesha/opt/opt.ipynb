{
 "cells": [
  {
   "cell_type": "code",
   "execution_count": 48,
   "metadata": {},
   "outputs": [],
   "source": [
    "import numpy as np\n",
    "from docopt import docopt\n",
    "from matplotlib.colors import Normalize as Norm\n",
    "from scipy import stats as st\n",
    "from astropy.io import fits\n",
    "import math\n",
    "import time\n",
    "import numpy as np\n",
    "from matplotlib import pyplot as plt\n",
    "plt.ion()\n",
    "from shesha.util.CovMap_from_Mat import Map_and_Mat,CovMap_from_Cn2, Mat_from_CovMap, DPHI, get_full_index_compass,MapMask_from_validsubs, CovMap_from_Mat\n",
    "from scipy import stats as st\n",
    "import glob\n",
    "from util import Reporter, norm2, norminf,Dataset,Option\n",
    "import scipy.linalg.lapack as lapack\n",
    "import scipy.linalg as linalg"
   ]
  },
  {
   "cell_type": "code",
   "execution_count": 2,
   "metadata": {
    "tags": []
   },
   "outputs": [
    {
     "output_type": "stream",
     "name": "stdout",
     "text": "['CovMapMask', 'telDiam', 'zenith', 'shnxsub', 'r0', 'Cn2', 'l0', 'alt', 'nwfs', 'gspos', 'gsalt', 'validsubs']\n"
    }
   ],
   "source": [
    "# savediction = {'covmapmask':CovMapMask,'telDiam':telDiam,'zenith':zenith,'shnxsub':shnxsub,\n",
    "# 'r0':r0,'Cn2':Cn2,'l0':l0,'alt':alt,'nwfs':nwfs,'gspos':gspos, 'gsalt':gsalt};\n",
    "# np.savez(\"sysconfg.npz\",savediction)\n",
    "sysconfigfile = \"../../sysconfg.npz\"\n",
    "npfile = np.load(sysconfigfile)\n",
    "print(npfile.files)\n",
    "CovMapMask=npfile['CovMapMask']\n",
    "telDiam = npfile['telDiam']\n",
    "zenith = npfile['zenith']\n",
    "shnxsub = npfile['shnxsub']\n",
    "r0 = npfile['r0']\n",
    "Cn2 = npfile['Cn2']\n",
    "l0 = npfile['l0']\n",
    "alt = npfile['alt']\n",
    "nwfs = npfile['nwfs']\n",
    "gspos = npfile['gspos']\n",
    "gsalt = npfile['gsalt']\n",
    "validsubs = npfile['validsubs']"
   ]
  },
  {
   "cell_type": "code",
   "execution_count": 3,
   "metadata": {
    "tags": []
   },
   "outputs": [
    {
     "output_type": "stream",
     "name": "stdout",
     "text": "Begin calculating Cov Map from Cn2\nCov Map generation finished! Time taken = 3.3 seconds.\ncomputation of Transformation Matrices took 0.2 seconds!\ncomputation of Cov Mat took 4.6 seconds!\n"
    }
   ],
   "source": [
    "CovMap_ana = CovMap_from_Cn2(CovMapMask,telDiam,zenith,shnxsub,r0,Cn2,l0,alt,nwfs,gspos,gsalt)\n",
    "Cmm_ana = Mat_from_CovMap(CovMap_ana,nwfs,validsubs,shnxsub)"
   ]
  },
  {
   "cell_type": "code",
   "execution_count": 4,
   "metadata": {},
   "outputs": [],
   "source": [
    "class Optsovler:\n",
    "    def __init__(self,nwfs,alt,X0,n_valid):\n",
    "        m = getAshape(nwfs) * n_valid * 3 # xx xy yy\n",
    "        m = int(m)\n",
    "        n = alt.shape[0]\n",
    "        n = int(n)\n",
    "        self.A = np.zeros((m,n))\n",
    "        self.b = np.zeros(m)\n",
    "        self.x_k = np.random.rand(n)\n",
    "        self.x_sol = np.zeros(n)\n",
    "        self.wfsrow = n_valid\n",
    "def getAshape(nwfs):\n",
    "    return int((nwfs+1)*nwfs/2)"
   ]
  },
  {
   "cell_type": "code",
   "execution_count": 5,
   "metadata": {},
   "outputs": [],
   "source": [
    "def LM(dataset, rpt, option):\n",
    "    # load information\n",
    "    A, b, x_sol, x_init, As = dataset.A.copy(), dataset.b.copy(), dataset.x_sol.copy(), \\\n",
    "                              dataset.x_init.copy(), dataset.As.copy()\n",
    "    datapass, importance, constrained = option.datapass, option.importance, option.constrained\n",
    "    batchsize = option.batchsize\n",
    "    lm = option.lm\n",
    "    timeout = option.timeout\n",
    "    # remove equation where all 0\n",
    "    valididx = np.where(b != 0)\n",
    "    A = A[valididx]\n",
    "    b = b[valididx]\n",
    "    As = As[valididx]\n",
    "    rows = A.shape[0]\n",
    "    M = A.shape[0]\n",
    "    N = x_init.shape[0]\n",
    "    if not lm:\n",
    "        maxiter = datapass * M // batchsize\n",
    "    else:\n",
    "        maxiter = datapass\n",
    "    rpt.registervar('lr')\n",
    "    rpt.registervar('gnorm')\n",
    "    rpt.registervar('chi2')\n",
    "    rpt.registervar('thresvec')\n",
    "    rpt.registervar('threstime')\n",
    "    rpt.registervar('epochaccutime')\n",
    "    rpt.registervar('error')\n",
    "    rpt.registervar('algosol')\n",
    "    rpt.error.append(1.)\n",
    "    rpt.gnorm.append(1.)\n",
    "    rpt.chi2.append(1.)\n",
    "    rpt.gdenom = norminf(A.T @ (A @ x_init - b))\n",
    "    rpt.chi2denom = norm2((A @ x_init - b))\n",
    "    rpt.errordenom = norm2(x_init - x_sol)\n",
    "    rpt.epochaccutime.append(0.0)\n",
    "    x_new = x_init.copy()\n",
    "    x_real = x_init.copy()\n",
    "    eps1 = 1e-16\n",
    "    eps2 = 1e-16\n",
    "    threscnt = 0\n",
    "    itertime = 0.0\n",
    "    tau = 1.0\n",
    "    k = 0\n",
    "    s1 = time.time()\n",
    "    if lm:\n",
    "        randidx = np.arange(M)\n",
    "    else:\n",
    "        if not importance:\n",
    "            randidx = np.random.randint(low=0, high=A.shape[0],size=batchsize)\n",
    "        else:\n",
    "            randidx = np.random.choice(A.shape[0],batchsize,p=As)\n",
    "\n",
    "    g =  (A[randidx].T @ (A[randidx]@x_init - b[randidx]))\n",
    "    h = A[randidx].T @ A[randidx]\n",
    "    Scur = np.linalg.norm(A[randidx]@x_init-b[randidx])**2\n",
    "    gnorm = np.linalg.norm(g, ord = np.inf)\n",
    "    found = gnorm < eps1\n",
    "    mu = 1 * np.max(np.diag(h))\n",
    "    x_real = x_init.copy()\n",
    "    x_new = x_init.copy()\n",
    "    e1 = time.time()\n",
    "    v = 2\n",
    "    itertime += e1-s1\n",
    "    while not found and k < maxiter:\n",
    "        s1 = time.time()\n",
    "        if not lm:\n",
    "            if not importance:\n",
    "                randidx = np.random.randint(low=0, high=A.shape[0], size=batchsize)\n",
    "            else:\n",
    "                randidx = np.random.choice(A.shape[0], batchsize, replace=False, p=As)\n",
    "        k += 1\n",
    "        tmpA = h + mu * np.identity(x_init.shape[0])\n",
    "        L, info = lapack.dpotrf(tmpA, lower=1)\n",
    "        assert(info == 0)\n",
    "        sol = linalg.solve_triangular(L, -g, lower=1)\n",
    "        hlm = linalg.solve_triangular(L.T, sol, lower=0)\n",
    "        if(np.linalg.norm(hlm) < eps2*(np.linalg.norm(x_real)+eps2)):\n",
    "            found = True\n",
    "        else:\n",
    "            for i in range(N):\n",
    "                x_new[i] += hlm[i]\n",
    "                if constrained:\n",
    "                    x_new[i] = max(x_new[i], 0.0001)\n",
    "            Scurnew = np.linalg.norm(A[randidx]@x_new-b[randidx])**2\n",
    "            rho = (Scur - Scurnew) / (0.5 * hlm.T @ ( mu * hlm - g))\n",
    "            if rho > 0:\n",
    "                x_real = x_new.copy()\n",
    "                g = (A[randidx].T @ (A[randidx]@x_real - b[randidx]))\n",
    "                h = A[randidx].T @ A[randidx]\n",
    "                Scur = Scurnew\n",
    "                found = np.linalg.norm(g, ord=np.inf) < eps1\n",
    "                mu = mu * max(1/3., 1 - (2*rho-1)**3)\n",
    "                v = 2\n",
    "            else:\n",
    "                x_new = x_real.copy()\n",
    "                mu = mu * v\n",
    "                v = 2*v\n",
    "        e1 = time.time()\n",
    "        itertime += e1 - s1\n",
    "        itererr = norm2(x_real - x_sol) / rpt.errordenom\n",
    "        if threscnt < len(option.threshold) and itererr < option.threshold[threscnt]:\n",
    "            rpt.thresvec.append(x_real.tolist())\n",
    "            rpt.threstime.append(itertime)\n",
    "            threscnt += 1\n",
    "        rpt.epochaccutime.append(itertime)\n",
    "        rpt.error.append(norm2(x_real - x_sol) / rpt.errordenom)\n",
    "        tmpgrad = A.T @ (A @ x_real - b)\n",
    "        rpt.gnorm.append(norminf(tmpgrad) / rpt.gdenom)\n",
    "        rpt.chi2.append(norm2(A @ x_real - b) / rpt.chi2denom)\n",
    "        if itertime > timeout:\n",
    "            print(k)\n",
    "            break\n",
    "    rpt.algosol = list(x_real.copy())\n"
   ]
  },
  {
   "cell_type": "code",
   "execution_count": 6,
   "metadata": {},
   "outputs": [],
   "source": [
    "def conf_to_Am1 (telDiam,zenith,validsubs,shnxsub,r0,l0,alt,nwfs,gspos,gsalt,timedelay=0,windspeed=[],winddir=[]):\n",
    "    dtor   = np.pi/180\n",
    "    astor  = dtor/60/60\n",
    "    zenith = zenith*dtor\n",
    "    gspos  = gspos*astor\n",
    "    subAperSize = telDiam/shnxsub\n",
    "    r0     = r0*math.cos(zenith)**0.6\n",
    "    gsalt  = gsalt/math.cos(zenith)\n",
    "    alt    = alt/math.cos(zenith)\n",
    "    #Cn2    = Cn2/np.sum(Cn2)\n",
    "    l0     = np.where(l0>1000,1000,l0)\n",
    "    windflag = 0 if timedelay==0 else 1\n",
    "    if windflag :\n",
    "        print(\"Temporal evolution enabled!\")\n",
    "        windspeed   = np.array(windspeed)\n",
    "        winddir     = np.array(winddir)*dtor\n",
    "        windspeed_x = windspeed*np.cos(winddir)\n",
    "        windspeed_y = windspeed*np.sin(winddir)\n",
    "    #validsubs  = get_full_index_compass()\n",
    "    CovMapMask = MapMask_from_validsubs(validsubs,shnxsub)\n",
    "    #CovMapMask = np.tile(CovMapMask,[nwfs*2,nwfs*2])\n",
    "    #CovMap_ana = np.zeros(CovMapMask.shape)\n",
    "    validmask  = np.where(CovMapMask.flatten())[0]\n",
    "    x0 = y0    = np.arange(-shnxsub+1,shnxsub,1)\n",
    "    X0,Y0      = np.meshgrid(x0,y0) ## 79*79\n",
    "    X0         = X0*subAperSize\n",
    "    Y0         = Y0*subAperSize\n",
    "    n_deltaY   = Y0.shape[0]\n",
    "    k         = 1/subAperSize/subAperSize\n",
    "    lambda2   = (0.5e-6/2/np.pi/astor)**2\n",
    "    time_start = time.time()\n",
    "    print(\"Begin calculating Cov Map from Cn2\")\n",
    "    optsolver = Optsovler(nwfs, alt, X0,validmask.shape[0])\n",
    "    #print(Cn2)\n",
    "    #optsolver.x_sol = Cn2\n",
    "    optcnt = 0\n",
    "    # print(optsolver.A.shape)\n",
    "    for wfs_1 in range(nwfs):\n",
    "        for wfs_2 in range(wfs_1,nwfs):\n",
    "            #print(\"begin calculating for WFS # \"+str(wfs_1)+\" and WFS #\"+str(wfs_2)+\" !\")\n",
    "            gsalt_1 = gsalt[wfs_1]\n",
    "            gsalt_2 = gsalt[wfs_2]\n",
    "            for li in range(alt.shape[0]):\n",
    "                tmpoptcnt = optcnt\n",
    "                # print(tmpoptcnt)\n",
    "                layer_alt = alt[li]\n",
    "                l0_i      = l0[li]\n",
    "                #Cn2h      = r0**(-5/3.)*Cn2[li]\n",
    "                dx_li_wind= 0\n",
    "                dy_li_wind= 0\n",
    "                if windflag :\n",
    "                    dx_li_wind = windspeed_x[li] * timedelay\n",
    "                    dy_li_wind = windspeed_y[li] * timedelay\n",
    "                #print(\"Processing altitude = \"+str(layer_alt)+\" m\")\n",
    "                if gsalt_1*gsalt_2 == 0:\n",
    "                    if gsalt_1 == gsalt_2:\n",
    "                        # 2 NGS\n",
    "                        Xi = X0 - layer_alt*(gspos[wfs_2,0]-gspos[wfs_1,0]) - dx_li_wind\n",
    "                        Yi = Y0 - layer_alt*(gspos[wfs_2,1]-gspos[wfs_1,1]) - dy_li_wind\n",
    "                        # no need to scale subAperSize\n",
    "                        subAperSize_i = subAperSize\n",
    "                    else:\n",
    "                        # 1 NGS 1 LGS\n",
    "                        raise Exception('Cov Map between LGS and NGS is not valid!')\n",
    "                else:\n",
    "                    # 2 LGS\n",
    "                    # Average gsalt is used here, which is not precise\n",
    "                    if gsalt_1<layer_alt or gsalt_2<layer_alt:\n",
    "                        raise Exception('Turbulence layer is higher than LGS altitude!')\n",
    "                    else:\n",
    "                        avg_gsalt = (gsalt_1+gsalt_2)/2\n",
    "                        Xi = (1-layer_alt/avg_gsalt)*X0 - layer_alt*(gspos[wfs_2,0]-gspos[wfs_1,0]) - dx_li_wind\n",
    "                        Yi = (1-layer_alt/avg_gsalt)*Y0 - layer_alt*(gspos[wfs_2,1]-gspos[wfs_1,1]) - dy_li_wind\n",
    "                        subAperSize_i = (1-layer_alt/avg_gsalt)*subAperSize\n",
    "            \n",
    "                Cov_XX = (-2 * DPHI(Xi,Yi,l0_i) + DPHI(Xi+subAperSize_i,Yi,l0_i) + DPHI(Xi-subAperSize_i,Yi,l0_i))*0.5\n",
    "                optxxA = Cov_XX * k * lambda2 * r0 **(-5/3.) # for opt genreate A, xx\n",
    "                #Cov_XX = Cov_XX *k*lambda2*np.abs(Cn2h)\n",
    "                optAstart = tmpoptcnt*optsolver.wfsrow\n",
    "                optAend = (tmpoptcnt+1)*optsolver.wfsrow\n",
    "                # print(optAstart)\n",
    "                optxxA = optxxA.flatten()[validmask]\n",
    "                optsolver.A[optAstart:optAend,li] = optxxA\n",
    "                \n",
    "                #optsolver.b[optAstart:optAend] = Cov_XX.flatten()\n",
    "                tmpoptcnt += 1\n",
    "                Cov_YY = (-2 * DPHI(Xi,Yi,l0_i) + DPHI(Xi,subAperSize_i+Yi,l0_i) + DPHI(Xi,-subAperSize_i+Yi,l0_i))*0.5\n",
    "                optyyA = Cov_YY * k * lambda2 * r0 **(-5/3.) # for opt genreate A, yy\n",
    "                #Cov_YY = Cov_YY *k*lambda2*np.abs(Cn2h)\n",
    "                optAstart = tmpoptcnt*optsolver.wfsrow\n",
    "                # print(optAstart)\n",
    "                optAend = (tmpoptcnt+1)*optsolver.wfsrow\n",
    "                optyyA = optyyA.flatten()[validmask]\n",
    "                optsolver.A[optAstart:optAend,li] = optyyA\n",
    "                #optsolver.b[optAstart:optAend] = Cov_YY.flatten()\n",
    "                Cov_XY = -DPHI(Xi+np.sqrt(2)*subAperSize_i/2,Yi-np.sqrt(2)*subAperSize_i/2,l0_i) +\\\n",
    "                          DPHI(Xi+np.sqrt(2)*subAperSize_i/2,Yi+np.sqrt(2)*subAperSize_i/2,l0_i) +\\\n",
    "                          DPHI(Xi-np.sqrt(2)*subAperSize_i/2,Yi-np.sqrt(2)*subAperSize_i/2,l0_i) -\\\n",
    "                          DPHI(Xi-np.sqrt(2)*subAperSize_i/2,Yi+np.sqrt(2)*subAperSize_i/2,l0_i)\n",
    "                Cov_XY = Cov_XY/4\n",
    "                optxyA = Cov_XY * k * lambda2 * r0 **(-5/3.) # for opt genreate A, xy\n",
    "                #Cov_XY = Cov_XY *k*lambda2*np.abs(Cn2h)\n",
    "                tmpoptcnt += 1\n",
    "                optAstart = tmpoptcnt*optsolver.wfsrow\n",
    "                # print(optAstart)\n",
    "                optAend = (tmpoptcnt+1)*optsolver.wfsrow\n",
    "                optxyA = optxyA.flatten()[validmask]\n",
    "                optsolver.A[optAstart:optAend,li] = optxyA\n",
    "                #optsolver.b[optAstart:optAend] = Cov_XY.flatten()\n",
    "\n",
    "                #CovMap_ana[n_deltaY*2*wfs_1:n_deltaY*2*wfs_1+n_deltaY,n_deltaY*2*wfs_2:n_deltaY*2*wfs_2+n_deltaY] += Cov_XX\n",
    "                #CovMap_ana[n_deltaY*2*wfs_1+n_deltaY:n_deltaY*2*(wfs_1+1),n_deltaY*2*wfs_2+n_deltaY:n_deltaY*2*(wfs_2+1)] += Cov_YY\n",
    "                #CovMap_ana[n_deltaY*2*wfs_1:n_deltaY*2*wfs_1+n_deltaY,n_deltaY*2*wfs_2+n_deltaY:n_deltaY*2*(wfs_2+1)] += Cov_XY\n",
    "                #CovMap_ana[n_deltaY*2*wfs_1+n_deltaY:n_deltaY*2*(wfs_1+1),n_deltaY*2*wfs_2:n_deltaY*2*wfs_2+n_deltaY] += Cov_XY\n",
    "            \n",
    "            '''\n",
    "            tmpoptcnt = optcnt\n",
    "            optAstart = tmpoptcnt*optsolver.wfsrow\n",
    "            optAend = (tmpoptcnt+1)*optsolver.wfsrow\n",
    "            optsolver.b[optAstart:optAend] = CovMap_ana[n_deltaY*2*wfs_1:n_deltaY*2*wfs_1+n_deltaY,n_deltaY*2*wfs_2:n_deltaY*2*wfs_2+n_deltaY].flatten()\n",
    "            tmpoptcnt += 1 \n",
    "            optAstart = tmpoptcnt*optsolver.wfsrow\n",
    "            optAend = (tmpoptcnt+1)*optsolver.wfsrow\n",
    "            optsolver.b[optAstart:optAend] = CovMap_ana[n_deltaY*2*wfs_1+n_deltaY:n_deltaY*2*(wfs_1+1),n_deltaY*2*wfs_2+n_deltaY:n_deltaY*2*(wfs_2+1)].flatten()\n",
    "            tmpoptcnt += 1\n",
    "            optAstart = tmpoptcnt*optsolver.wfsrow\n",
    "            optAend = (tmpoptcnt+1)*optsolver.wfsrow\n",
    "            optsolver.b[optAstart:optAend] = CovMap_ana[n_deltaY*2*wfs_1+n_deltaY:n_deltaY*2*(wfs_1+1),n_deltaY*2*wfs_2:n_deltaY*2*wfs_2+n_deltaY].flatten()\n",
    "            '''\n",
    "            optcnt += 3\n",
    "            \n",
    "\n",
    "    time_end = time.time()\n",
    "    #print(\"Cov Map generation finished! Time taken = %.1f seconds.\"%(time_end-time_start))\n",
    "    #hdu = fits.PrimaryHDU(CovMap_ana)\n",
    "    #hdu.writeto(\"CovMap_ana_full.fits\",overwrite=1)\n",
    "    #CovMap_ana = CovMap_ana * CovMapMask\n",
    "    # Am1 = np.linalg.solve(optsolver.A.T@optsolver.A+np.eye(alt.shape[0])*0.0000000,optsolver.A.T)\n",
    "    Am1 = np.linalg.pinv(optsolver.A.T@optsolver.A)@optsolver.A.T\n",
    "    return Am1,optsolver"
   ]
  },
  {
   "cell_type": "code",
   "execution_count": 7,
   "metadata": {},
   "outputs": [],
   "source": [
    "def mat_to_b(CovMat,nwfs,validsubs,shnxsub):\n",
    "    CovMap,CovMapMask = CovMap_from_Mat(CovMat,nwfs,validsubs,shnxsub)\n",
    "    CovMapMask = MapMask_from_validsubs(validsubs,shnxsub)\n",
    "    n_deltaY   = 2*shnxsub-1\n",
    "    validmask  = np.where(CovMapMask.flatten())[0]\n",
    "    n_mappoint = validmask.shape[0]\n",
    "    b          = np.zeros(getAshape(nwfs) * n_mappoint * 3)\n",
    "    n_counter  = 0\n",
    "    for wfs_1 in range(nwfs):\n",
    "        for wfs_2 in range(wfs_1,nwfs):\n",
    "            b[n_counter*n_mappoint:(n_counter+1)*n_mappoint] = CovMap[n_deltaY*2*wfs_1:n_deltaY*2*wfs_1+n_deltaY,n_deltaY*2*wfs_2:n_deltaY*2*wfs_2+n_deltaY].flatten()[validmask]\n",
    "            n_counter+=1\n",
    "            b[n_counter*n_mappoint:(n_counter+1)*n_mappoint] = CovMap[n_deltaY*2*wfs_1+n_deltaY:n_deltaY*2*(wfs_1+1),n_deltaY*2*wfs_2+n_deltaY:n_deltaY*2*(wfs_2+1)].flatten()[validmask]\n",
    "            n_counter+=1\n",
    "            b[n_counter*n_mappoint:(n_counter+1)*n_mappoint] = CovMap[n_deltaY*2*wfs_1:n_deltaY*2*wfs_1+n_deltaY,n_deltaY*2*wfs_2+n_deltaY:n_deltaY*2*(wfs_2+1)].flatten()[validmask]\n",
    "            n_counter+=1\n",
    "\n",
    "    return b"
   ]
  },
  {
   "cell_type": "code",
   "execution_count": 12,
   "metadata": {
    "tags": []
   },
   "outputs": [
    {
     "output_type": "stream",
     "name": "stdout",
     "text": "Begin calculating Cov Map from Cn2\n(509868, 10)\n"
    }
   ],
   "source": [
    "Am1,optsolver = conf_to_Am1 (telDiam,zenith,validsubs,shnxsub,r0,l0,alt,nwfs,gspos,gsalt)\n",
    "numcmmana = np.load(\"../../cmm_num_long_buffer_T_250_buffer_every_40_start_from_708636.npy\")\n",
    "print(optsolver.A.shape)"
   ]
  },
  {
   "cell_type": "code",
   "execution_count": 14,
   "metadata": {
    "tags": []
   },
   "outputs": [
    {
     "output_type": "stream",
     "name": "stdout",
     "text": "computation of Transformation Matrices took 0.2 seconds!\ncomputation of Cov Maps took 5.7 seconds!\n"
    }
   ],
   "source": [
    "dataset = Dataset()\n",
    "dataset.A = optsolver.A\n",
    "optsolver.b = mat_to_b(Cmm_ana,nwfs,validsubs,shnxsub)\n",
    "dataset.b = optsolver.b\n",
    "dataset.x_init = np.array([0.54,0.0200,0.0203,0.060000002,0.01000000,0.0500,0.090000,0.04000,0.05000,0.0500])\n",
    "dataset.x_sol = Cn2\n",
    "dataset.As = np.linalg.norm(optsolver.A,axis=1)**2"
   ]
  },
  {
   "cell_type": "code",
   "execution_count": 15,
   "metadata": {
    "tags": []
   },
   "outputs": [
    {
     "output_type": "stream",
     "name": "stdout",
     "text": "Cn2 calculated from analytical Cmat: [0.59000003 0.02       0.04000001 0.06       0.01       0.05\n 0.09000001 0.04       0.05       0.05      ]\n"
    }
   ],
   "source": [
    "x = Am1@dataset.b\n",
    "print(\"Cn2 calculated from analytical Cmat:\",x)"
   ]
  },
  {
   "cell_type": "code",
   "execution_count": 19,
   "metadata": {
    "tags": []
   },
   "outputs": [],
   "source": [
    "DATAPASS=100\n",
    "TIMEOUT=20\n",
    "DATANAME=\"analytical\"\n",
    "CONSTRAINED = True\n",
    "option = Option()\n",
    "option.setattr('datapass', DATAPASS)\n",
    "option.setattr('importance',0)\n",
    "option.setattr('constrained',CONSTRAINED)\n",
    "option.setattr('timeout',TIMEOUT)\n",
    "option.setattr('batchsize',0)\n",
    "xvalscale = 1.0\n",
    "option.setattr('lm',1)\n",
    "option.setattr('threshold',[7e-1,2e-1,7e-2,2e-2])\n",
    "option.setattr('dataset',DATANAME)\n",
    "lmrpt = Reporter('./results/','LM',DATANAME,option)\n",
    "LM(dataset, lmrpt, option)"
   ]
  },
  {
   "cell_type": "code",
   "execution_count": 20,
   "metadata": {
    "tags": []
   },
   "outputs": [
    {
     "output_type": "stream",
     "name": "stdout",
     "text": "[1.0, 0.7086309663383599, 0.6283516246382368, 0.5586107279724828, 0.49537714907204117, 0.4429021945666654, 0.4039573411723448, 0.3758829400166894, 0.338535388932686, 0.30201005246597806, 0.27892381590683163, 0.2504741454641402, 0.2198725970763243, 0.1954570334582668, 0.15331308444361816, 0.08012775590586836, 0.01733971804609092, 0.0008760303105395491, 6.803920671900189e-06, 6.62749449463307e-09, 7.48091807210586e-13, 9.484870701433872e-18, 3.360441064430626e-24, 2.8581112889396425e-23, 2.9792078631396806e-23, 2.9792078631396806e-23, 2.9792078631396806e-23, 2.9792078631396806e-23, 2.9792078631396806e-23, 2.9481480795459346e-23, 2.9481480795459346e-23, 2.9481480795459346e-23, 2.9481480795459346e-23, 2.9481480795459346e-23, 2.9481480795459346e-23, 2.9476091797262604e-23]\n"
    }
   ],
   "source": [
    "print(lmrpt.error)"
   ]
  },
  {
   "cell_type": "code",
   "execution_count": 25,
   "metadata": {
    "tags": []
   },
   "outputs": [
    {
     "output_type": "stream",
     "name": "stdout",
     "text": "computation of Transformation Matrices took 0.3 seconds!\ncomputation of Cov Maps took 5.6 seconds!\n"
    }
   ],
   "source": [
    "dataset = Dataset()\n",
    "dataset.A = optsolver.A\n",
    "optsolver.b = mat_to_b(numcmmana,nwfs,validsubs,shnxsub)\n",
    "dataset.b = optsolver.b\n",
    "dataset.x_init = np.array([0.54,0.0200,0.0203,0.060000002,0.01000000,0.0500,0.090000,0.04000,0.05000,0.0500])\n",
    "dataset.x_sol = Cn2\n",
    "dataset.As = np.linalg.norm(optsolver.A,axis=1)**2"
   ]
  },
  {
   "cell_type": "code",
   "execution_count": 26,
   "metadata": {
    "tags": []
   },
   "outputs": [
    {
     "output_type": "stream",
     "name": "stdout",
     "text": "Cn2 calculated from analytical Cmat: [ 3.92610353 -8.48023428  6.3091894  -1.27057277  0.07429112  0.03412267\n  0.06428821  0.0247871   0.02301117  0.05800552]\n"
    }
   ],
   "source": [
    "x = Am1@dataset.b\n",
    "print(\"Cn2 calculated from analytical Cmat:\",x)"
   ]
  },
  {
   "cell_type": "code",
   "execution_count": 27,
   "metadata": {},
   "outputs": [],
   "source": [
    "DATAPASS=100\n",
    "TIMEOUT=20\n",
    "DATANAME=\"analytical\"\n",
    "CONSTRAINED = True\n",
    "option = Option()\n",
    "option.setattr('datapass', DATAPASS)\n",
    "option.setattr('importance',0)\n",
    "option.setattr('constrained',CONSTRAINED)\n",
    "option.setattr('timeout',TIMEOUT)\n",
    "option.setattr('batchsize',0)\n",
    "xvalscale = 1.0\n",
    "option.setattr('lm',1)\n",
    "option.setattr('threshold',[7e-1,2e-1,7e-2,2e-2])\n",
    "option.setattr('dataset',DATANAME)\n",
    "lmrpt = Reporter('./results/','LM',DATANAME,option)\n",
    "LM(dataset, lmrpt, option)"
   ]
  },
  {
   "cell_type": "code",
   "execution_count": 30,
   "metadata": {
    "tags": []
   },
   "outputs": [
    {
     "output_type": "stream",
     "name": "stdout",
     "text": "[1.0, 2.602890946553904, 3.05641289806923, 3.282921953142387, 3.528358808618726, 3.7621510470295965, 3.980998227120685, 4.185264123513582, 4.376111884533543, 4.554628040292288, 4.721900250917246, 4.878997250300842, 5.026987059540583, 5.166914656593258, 5.299776249519581, 5.426492614649438, 5.547887010528213, 5.664668228401789, 5.777419226527999, 5.8865919180768795, 5.992508802832892, 6.095371691621292, 6.1952769081181716, 6.292235405079608, 6.38619556700157, 6.4770662964482035, 6.564738289910713, 6.649102032696524, 6.73006176060296, 6.8075452709937885, 6.881509923181771, 6.9519454311936375, 7.018874152727164, 7.082349566313734, 7.142453552279035, 7.199292988765142, 7.252996065542405, 7.303708618478698, 7.351590701246245, 7.39681353823818, 7.439556940945605, 7.480007215471537, 7.518355537878657, 7.554649327880482, 7.588794092717784, 7.620985413855797, 7.651388672289586, 7.680168004722473, 7.707480108293418, 7.733473375666672, 7.758287083841564, 7.782051048619332, 7.804885566470342, 7.826901554868866, 7.848200823874965, 7.868876433964296, 7.889013109944404, 7.908687690149674, 7.927969595740214, 7.946921308479421, 7.965598847895979, 7.9840522408182295, 8.002325978074774, 8.020459454723479, 8.038487391458919, 8.056440235821128, 8.074344542523908, 8.092223332675404, 8.110096431907525, 8.127980787601526, 8.14589076545938, 8.16383842573103, 8.181833779463746, 8.199885025206104, 8.217998766676333, 8.236180211996198, 8.254433355186572, 8.27276114070496, 8.291165611887724, 8.309648044219394, 8.328209064394752, 8.346848756164835, 8.365566753961884, 8.384362325287864, 8.403234442820036, 8.422181847151094, 8.44120310102881, 8.460296635905307, 8.479460791545046, 8.498693849378451, 8.517994060224, 8.537359666941345, 8.556788922519477, 8.576280104048925, 8.595831522977297, 8.615441532002484, 8.635108528920384, 8.6548309577096, 8.67460730711143, 8.694436106942481, 8.71431592236518]\n"
    }
   ],
   "source": [
    "print(lmrpt.error)"
   ]
  },
  {
   "cell_type": "code",
   "execution_count": 32,
   "metadata": {
    "tags": []
   },
   "outputs": [
    {
     "output_type": "stream",
     "name": "stdout",
     "text": "[0.4489134652075826, 0.0001, 0.0013441338000801059, 0.08617233590017125, 0.03054398636166341, 0.025219097148587173, 0.0650758030311595, 0.02461298961607532, 0.023009143268413024, 0.05802683959324351]\n"
    }
   ],
   "source": [
    "print(lmrpt.algosol)"
   ]
  },
  {
   "cell_type": "code",
   "execution_count": 65,
   "metadata": {},
   "outputs": [],
   "source": []
  },
  {
   "cell_type": "code",
   "execution_count": 33,
   "metadata": {},
   "outputs": [],
   "source": [
    "numcmmana = np.load(\"../../cmm_num_long_buffer_T_250_buffer_every_40_start_from_17348.npy\")"
   ]
  },
  {
   "cell_type": "code",
   "execution_count": 34,
   "metadata": {
    "tags": []
   },
   "outputs": [
    {
     "output_type": "stream",
     "name": "stdout",
     "text": "computation of Transformation Matrices took 0.2 seconds!\ncomputation of Cov Maps took 5.6 seconds!\n"
    }
   ],
   "source": [
    "dataset = Dataset()\n",
    "dataset.A = optsolver.A\n",
    "optsolver.b = mat_to_b(numcmmana,nwfs,validsubs,shnxsub)\n",
    "dataset.b = optsolver.b\n",
    "dataset.x_init = np.array([0.54,0.0200,0.0203,0.060000002,0.01000000,0.0500,0.090000,0.04000,0.05000,0.0500])\n",
    "dataset.x_sol = Cn2\n",
    "dataset.As = np.linalg.norm(optsolver.A,axis=1)**2"
   ]
  },
  {
   "cell_type": "code",
   "execution_count": 35,
   "metadata": {},
   "outputs": [],
   "source": [
    "DATAPASS=100\n",
    "TIMEOUT=20\n",
    "DATANAME=\"analytical\"\n",
    "CONSTRAINED = True\n",
    "option = Option()\n",
    "option.setattr('datapass', DATAPASS)\n",
    "option.setattr('importance',0)\n",
    "option.setattr('constrained',CONSTRAINED)\n",
    "option.setattr('timeout',TIMEOUT)\n",
    "option.setattr('batchsize',0)\n",
    "xvalscale = 1.0\n",
    "option.setattr('lm',1)\n",
    "option.setattr('threshold',[7e-1,2e-1,7e-2,2e-2])\n",
    "option.setattr('dataset',DATANAME)\n",
    "lmrpt = Reporter('./results/','LM',DATANAME,option)\n",
    "LM(dataset, lmrpt, option)"
   ]
  },
  {
   "cell_type": "code",
   "execution_count": 36,
   "metadata": {
    "tags": []
   },
   "outputs": [
    {
     "output_type": "stream",
     "name": "stdout",
     "text": "[1.0, 1.8076904010280161, 2.0244123958334765, 2.1432042321158624, 2.3111247220279107, 2.5508327087099523, 2.5508327087099523, 2.5508327087099523, 2.5508327087099523, 2.5711290565556753, 2.604562830060519, 2.637957517577879, 2.68535424207582, 2.718129394411388, 2.718129394411388, 2.718129394411388, 2.727392696855427, 2.727392696855427, 2.7362392603656747, 2.7445542791389275, 2.7524819196892625, 2.7601325956801683, 2.76752951273407, 2.774682847252487, 2.7816010632811072, 2.7882921960121156, 2.794764136572243, 2.801024655591488, 2.807081374374844, 2.8129417327921433, 2.8186129647047626, 2.8241020817262887, 2.829415863906638, 2.8345608556953796, 2.839543365773892, 2.8443694696443274, 2.84904501413033, 2.85357562315632, 2.857966704338707, 2.862223456050849, 2.8663508747155255, 2.8703537621547763, 2.8742367328770184, 2.8780042212218775, 2.8816604883115913, 2.88520962877905, 2.888655577254974, 2.89200211460954, 2.8952528739490844, 2.8984113463730696, 2.901480886499334, 2.9044647177675507, 2.907365937531124, 2.910187521948108, 2.9129323306809463, 2.915603111414945, 2.9182025042042254, 2.9207330456547753, 2.923197172950243, 2.925597227729218, 2.927935459819911, 2.9302140308377203, 2.9324350176520504, 2.934600415725849, 2.9367121423342364, 2.9387720396652997, 2.940781877807134, 2.9427433576252047, 2.9446581135334906, 2.9465277161625094, 2.9483536749279446, 2.950137440502587, 2.9518804071949214, 2.953583915236576, 2.9552492529822163, 2.9568776590246193, 2.9584703242275125, 2.960028393678163, 2.9615529685632853, 2.9630451079704336, 2.964505830617272, 2.965936116511573, 2.9673369085436647, 2.968709114014208, 2.970053606099527, 2.9713712252566022, 2.972662780569898, 2.9739290510427216, 2.9751707868344526, 2.9763887104458906, 2.977583517855009, 2.9787558796047375, 2.979906441845123, 2.9810358273307602, 2.982144636376209, 2.983233447770842, 2.984302819654439, 2.9853532903555915, 2.9863853791936443, 2.9873995872471193, 2.988396398088863]\n"
    }
   ],
   "source": [
    "print(lmrpt.error)"
   ]
  },
  {
   "cell_type": "code",
   "execution_count": 37,
   "metadata": {
    "tags": []
   },
   "outputs": [
    {
     "output_type": "stream",
     "name": "stdout",
     "text": "[0.5157939607532586, 0.0001, 0.0001, 0.05005333975042752, 0.027287973483568876, 0.03608656350590896, 0.07182791259985911, 0.037876460075496395, 0.03957892052741576, 0.06007368500316139]\n"
    }
   ],
   "source": [
    "print(lmrpt.algosol)"
   ]
  },
  {
   "cell_type": "code",
   "execution_count": 45,
   "metadata": {
    "tags": []
   },
   "outputs": [
    {
     "output_type": "stream",
     "name": "stdout",
     "text": "computation of Transformation Matrices took 0.2 seconds!\ncomputation of Cov Maps took 5.6 seconds!\n"
    }
   ],
   "source": [
    "numcmmana = np.load(\"../../cmm_num_long_buffer_T_250_buffer_every_40_start_from_356130.npy\")\n",
    "dataset = Dataset()\n",
    "dataset.A = optsolver.A\n",
    "optsolver.b = mat_to_b(numcmmana,nwfs,validsubs,shnxsub)\n",
    "dataset.b = optsolver.b\n",
    "#dataset.x_init = np.array([0.54,0.0200,0.0203,0.060000002,0.01000000,0.0500,0.090000,0.04000,0.05000,0.0500])\n",
    "dataset.x_init = np.random.rand(10)\n",
    "dataset.x_sol = Cn2\n",
    "dataset.As = np.linalg.norm(optsolver.A,axis=1)**2\n",
    "DATAPASS=100\n",
    "TIMEOUT=20\n",
    "DATANAME=\"analytical\"\n",
    "CONSTRAINED = True\n",
    "option = Option()\n",
    "option.setattr('datapass', DATAPASS)\n",
    "option.setattr('importance',0)\n",
    "option.setattr('constrained',CONSTRAINED)\n",
    "option.setattr('timeout',TIMEOUT)\n",
    "option.setattr('batchsize',0)\n",
    "xvalscale = 1.0\n",
    "option.setattr('lm',1)\n",
    "option.setattr('threshold',[7e-1,2e-1,7e-2,2e-2])\n",
    "option.setattr('dataset',DATANAME)\n",
    "lmrpt = Reporter('./results/','LM',DATANAME,option)\n",
    "LM(dataset, lmrpt, option)"
   ]
  },
  {
   "cell_type": "code",
   "execution_count": 46,
   "metadata": {
    "tags": []
   },
   "outputs": [
    {
     "output_type": "stream",
     "name": "stdout",
     "text": "[0.12157392446494293, 0.04661965537434439, 0.40530274383284903, 0.0001, 0.0001, 0.01768498678673711, 0.06953759414159172, 0.030056306695755566, 0.03520364923095014, 0.03456871274766305]\n"
    }
   ],
   "source": [
    "print(lmrpt.algosol)"
   ]
  },
  {
   "cell_type": "code",
   "execution_count": 47,
   "metadata": {},
   "outputs": [
    {
     "output_type": "execute_result",
     "data": {
      "text/plain": "[<matplotlib.lines.Line2D at 0x7f255142ba58>]"
     },
     "metadata": {},
     "execution_count": 47
    },
    {
     "output_type": "display_data",
     "data": {
      "text/plain": "<Figure size 432x288 with 1 Axes>",
      "image/svg+xml": "<?xml version=\"1.0\" encoding=\"utf-8\" standalone=\"no\"?>\n<!DOCTYPE svg PUBLIC \"-//W3C//DTD SVG 1.1//EN\"\n  \"http://www.w3.org/Graphics/SVG/1.1/DTD/svg11.dtd\">\n<!-- Created with matplotlib (https://matplotlib.org/) -->\n<svg height=\"248.518125pt\" version=\"1.1\" viewBox=\"0 0 372.103125 248.518125\" width=\"372.103125pt\" xmlns=\"http://www.w3.org/2000/svg\" xmlns:xlink=\"http://www.w3.org/1999/xlink\">\n <defs>\n  <style type=\"text/css\">\n*{stroke-linecap:butt;stroke-linejoin:round;}\n  </style>\n </defs>\n <g id=\"figure_1\">\n  <g id=\"patch_1\">\n   <path d=\"M 0 248.518125 \nL 372.103125 248.518125 \nL 372.103125 0 \nL 0 0 \nz\n\" style=\"fill:none;\"/>\n  </g>\n  <g id=\"axes_1\">\n   <g id=\"patch_2\">\n    <path d=\"M 30.103125 224.64 \nL 364.903125 224.64 \nL 364.903125 7.2 \nL 30.103125 7.2 \nz\n\" style=\"fill:#ffffff;\"/>\n   </g>\n   <g id=\"matplotlib.axis_1\">\n    <g id=\"xtick_1\">\n     <g id=\"line2d_1\">\n      <defs>\n       <path d=\"M 0 0 \nL 0 3.5 \n\" id=\"m282496899f\" style=\"stroke:#000000;stroke-width:0.8;\"/>\n      </defs>\n      <g>\n       <use style=\"stroke:#000000;stroke-width:0.8;\" x=\"45.321307\" xlink:href=\"#m282496899f\" y=\"224.64\"/>\n      </g>\n     </g>\n     <g id=\"text_1\">\n      <!-- 0 -->\n      <defs>\n       <path d=\"M 31.78125 66.40625 \nQ 24.171875 66.40625 20.328125 58.90625 \nQ 16.5 51.421875 16.5 36.375 \nQ 16.5 21.390625 20.328125 13.890625 \nQ 24.171875 6.390625 31.78125 6.390625 \nQ 39.453125 6.390625 43.28125 13.890625 \nQ 47.125 21.390625 47.125 36.375 \nQ 47.125 51.421875 43.28125 58.90625 \nQ 39.453125 66.40625 31.78125 66.40625 \nz\nM 31.78125 74.21875 \nQ 44.046875 74.21875 50.515625 64.515625 \nQ 56.984375 54.828125 56.984375 36.375 \nQ 56.984375 17.96875 50.515625 8.265625 \nQ 44.046875 -1.421875 31.78125 -1.421875 \nQ 19.53125 -1.421875 13.0625 8.265625 \nQ 6.59375 17.96875 6.59375 36.375 \nQ 6.59375 54.828125 13.0625 64.515625 \nQ 19.53125 74.21875 31.78125 74.21875 \nz\n\" id=\"DejaVuSans-48\"/>\n      </defs>\n      <g transform=\"translate(42.140057 239.238437)scale(0.1 -0.1)\">\n       <use xlink:href=\"#DejaVuSans-48\"/>\n      </g>\n     </g>\n    </g>\n    <g id=\"xtick_2\">\n     <g id=\"line2d_2\">\n      <g>\n       <use style=\"stroke:#000000;stroke-width:0.8;\" x=\"112.95767\" xlink:href=\"#m282496899f\" y=\"224.64\"/>\n      </g>\n     </g>\n     <g id=\"text_2\">\n      <!-- 2 -->\n      <defs>\n       <path d=\"M 19.1875 8.296875 \nL 53.609375 8.296875 \nL 53.609375 0 \nL 7.328125 0 \nL 7.328125 8.296875 \nQ 12.9375 14.109375 22.625 23.890625 \nQ 32.328125 33.6875 34.8125 36.53125 \nQ 39.546875 41.84375 41.421875 45.53125 \nQ 43.3125 49.21875 43.3125 52.78125 \nQ 43.3125 58.59375 39.234375 62.25 \nQ 35.15625 65.921875 28.609375 65.921875 \nQ 23.96875 65.921875 18.8125 64.3125 \nQ 13.671875 62.703125 7.8125 59.421875 \nL 7.8125 69.390625 \nQ 13.765625 71.78125 18.9375 73 \nQ 24.125 74.21875 28.421875 74.21875 \nQ 39.75 74.21875 46.484375 68.546875 \nQ 53.21875 62.890625 53.21875 53.421875 \nQ 53.21875 48.921875 51.53125 44.890625 \nQ 49.859375 40.875 45.40625 35.40625 \nQ 44.1875 33.984375 37.640625 27.21875 \nQ 31.109375 20.453125 19.1875 8.296875 \nz\n\" id=\"DejaVuSans-50\"/>\n      </defs>\n      <g transform=\"translate(109.77642 239.238437)scale(0.1 -0.1)\">\n       <use xlink:href=\"#DejaVuSans-50\"/>\n      </g>\n     </g>\n    </g>\n    <g id=\"xtick_3\">\n     <g id=\"line2d_3\">\n      <g>\n       <use style=\"stroke:#000000;stroke-width:0.8;\" x=\"180.594034\" xlink:href=\"#m282496899f\" y=\"224.64\"/>\n      </g>\n     </g>\n     <g id=\"text_3\">\n      <!-- 4 -->\n      <defs>\n       <path d=\"M 37.796875 64.3125 \nL 12.890625 25.390625 \nL 37.796875 25.390625 \nz\nM 35.203125 72.90625 \nL 47.609375 72.90625 \nL 47.609375 25.390625 \nL 58.015625 25.390625 \nL 58.015625 17.1875 \nL 47.609375 17.1875 \nL 47.609375 0 \nL 37.796875 0 \nL 37.796875 17.1875 \nL 4.890625 17.1875 \nL 4.890625 26.703125 \nz\n\" id=\"DejaVuSans-52\"/>\n      </defs>\n      <g transform=\"translate(177.412784 239.238437)scale(0.1 -0.1)\">\n       <use xlink:href=\"#DejaVuSans-52\"/>\n      </g>\n     </g>\n    </g>\n    <g id=\"xtick_4\">\n     <g id=\"line2d_4\">\n      <g>\n       <use style=\"stroke:#000000;stroke-width:0.8;\" x=\"248.230398\" xlink:href=\"#m282496899f\" y=\"224.64\"/>\n      </g>\n     </g>\n     <g id=\"text_4\">\n      <!-- 6 -->\n      <defs>\n       <path d=\"M 33.015625 40.375 \nQ 26.375 40.375 22.484375 35.828125 \nQ 18.609375 31.296875 18.609375 23.390625 \nQ 18.609375 15.53125 22.484375 10.953125 \nQ 26.375 6.390625 33.015625 6.390625 \nQ 39.65625 6.390625 43.53125 10.953125 \nQ 47.40625 15.53125 47.40625 23.390625 \nQ 47.40625 31.296875 43.53125 35.828125 \nQ 39.65625 40.375 33.015625 40.375 \nz\nM 52.59375 71.296875 \nL 52.59375 62.3125 \nQ 48.875 64.0625 45.09375 64.984375 \nQ 41.3125 65.921875 37.59375 65.921875 \nQ 27.828125 65.921875 22.671875 59.328125 \nQ 17.53125 52.734375 16.796875 39.40625 \nQ 19.671875 43.65625 24.015625 45.921875 \nQ 28.375 48.1875 33.59375 48.1875 \nQ 44.578125 48.1875 50.953125 41.515625 \nQ 57.328125 34.859375 57.328125 23.390625 \nQ 57.328125 12.15625 50.6875 5.359375 \nQ 44.046875 -1.421875 33.015625 -1.421875 \nQ 20.359375 -1.421875 13.671875 8.265625 \nQ 6.984375 17.96875 6.984375 36.375 \nQ 6.984375 53.65625 15.1875 63.9375 \nQ 23.390625 74.21875 37.203125 74.21875 \nQ 40.921875 74.21875 44.703125 73.484375 \nQ 48.484375 72.75 52.59375 71.296875 \nz\n\" id=\"DejaVuSans-54\"/>\n      </defs>\n      <g transform=\"translate(245.049148 239.238437)scale(0.1 -0.1)\">\n       <use xlink:href=\"#DejaVuSans-54\"/>\n      </g>\n     </g>\n    </g>\n    <g id=\"xtick_5\">\n     <g id=\"line2d_5\">\n      <g>\n       <use style=\"stroke:#000000;stroke-width:0.8;\" x=\"315.866761\" xlink:href=\"#m282496899f\" y=\"224.64\"/>\n      </g>\n     </g>\n     <g id=\"text_5\">\n      <!-- 8 -->\n      <defs>\n       <path d=\"M 31.78125 34.625 \nQ 24.75 34.625 20.71875 30.859375 \nQ 16.703125 27.09375 16.703125 20.515625 \nQ 16.703125 13.921875 20.71875 10.15625 \nQ 24.75 6.390625 31.78125 6.390625 \nQ 38.8125 6.390625 42.859375 10.171875 \nQ 46.921875 13.96875 46.921875 20.515625 \nQ 46.921875 27.09375 42.890625 30.859375 \nQ 38.875 34.625 31.78125 34.625 \nz\nM 21.921875 38.8125 \nQ 15.578125 40.375 12.03125 44.71875 \nQ 8.5 49.078125 8.5 55.328125 \nQ 8.5 64.0625 14.71875 69.140625 \nQ 20.953125 74.21875 31.78125 74.21875 \nQ 42.671875 74.21875 48.875 69.140625 \nQ 55.078125 64.0625 55.078125 55.328125 \nQ 55.078125 49.078125 51.53125 44.71875 \nQ 48 40.375 41.703125 38.8125 \nQ 48.828125 37.15625 52.796875 32.3125 \nQ 56.78125 27.484375 56.78125 20.515625 \nQ 56.78125 9.90625 50.3125 4.234375 \nQ 43.84375 -1.421875 31.78125 -1.421875 \nQ 19.734375 -1.421875 13.25 4.234375 \nQ 6.78125 9.90625 6.78125 20.515625 \nQ 6.78125 27.484375 10.78125 32.3125 \nQ 14.796875 37.15625 21.921875 38.8125 \nz\nM 18.3125 54.390625 \nQ 18.3125 48.734375 21.84375 45.5625 \nQ 25.390625 42.390625 31.78125 42.390625 \nQ 38.140625 42.390625 41.71875 45.5625 \nQ 45.3125 48.734375 45.3125 54.390625 \nQ 45.3125 60.0625 41.71875 63.234375 \nQ 38.140625 66.40625 31.78125 66.40625 \nQ 25.390625 66.40625 21.84375 63.234375 \nQ 18.3125 60.0625 18.3125 54.390625 \nz\n\" id=\"DejaVuSans-56\"/>\n      </defs>\n      <g transform=\"translate(312.685511 239.238437)scale(0.1 -0.1)\">\n       <use xlink:href=\"#DejaVuSans-56\"/>\n      </g>\n     </g>\n    </g>\n   </g>\n   <g id=\"matplotlib.axis_2\">\n    <g id=\"ytick_1\">\n     <g id=\"line2d_6\">\n      <defs>\n       <path d=\"M 0 0 \nL -3.5 0 \n\" id=\"m233e1d0fdf\" style=\"stroke:#000000;stroke-width:0.8;\"/>\n      </defs>\n      <g>\n       <use style=\"stroke:#000000;stroke-width:0.8;\" x=\"30.103125\" xlink:href=\"#m233e1d0fdf\" y=\"214.789873\"/>\n      </g>\n     </g>\n     <g id=\"text_6\">\n      <!-- 0.0 -->\n      <defs>\n       <path d=\"M 10.6875 12.40625 \nL 21 12.40625 \nL 21 0 \nL 10.6875 0 \nz\n\" id=\"DejaVuSans-46\"/>\n      </defs>\n      <g transform=\"translate(7.2 218.589092)scale(0.1 -0.1)\">\n       <use xlink:href=\"#DejaVuSans-48\"/>\n       <use x=\"63.623047\" xlink:href=\"#DejaVuSans-46\"/>\n       <use x=\"95.410156\" xlink:href=\"#DejaVuSans-48\"/>\n      </g>\n     </g>\n    </g>\n    <g id=\"ytick_2\">\n     <g id=\"line2d_7\">\n      <g>\n       <use style=\"stroke:#000000;stroke-width:0.8;\" x=\"30.103125\" xlink:href=\"#m233e1d0fdf\" y=\"181.280343\"/>\n      </g>\n     </g>\n     <g id=\"text_7\">\n      <!-- 0.1 -->\n      <defs>\n       <path d=\"M 12.40625 8.296875 \nL 28.515625 8.296875 \nL 28.515625 63.921875 \nL 10.984375 60.40625 \nL 10.984375 69.390625 \nL 28.421875 72.90625 \nL 38.28125 72.90625 \nL 38.28125 8.296875 \nL 54.390625 8.296875 \nL 54.390625 0 \nL 12.40625 0 \nz\n\" id=\"DejaVuSans-49\"/>\n      </defs>\n      <g transform=\"translate(7.2 185.079562)scale(0.1 -0.1)\">\n       <use xlink:href=\"#DejaVuSans-48\"/>\n       <use x=\"63.623047\" xlink:href=\"#DejaVuSans-46\"/>\n       <use x=\"95.410156\" xlink:href=\"#DejaVuSans-49\"/>\n      </g>\n     </g>\n    </g>\n    <g id=\"ytick_3\">\n     <g id=\"line2d_8\">\n      <g>\n       <use style=\"stroke:#000000;stroke-width:0.8;\" x=\"30.103125\" xlink:href=\"#m233e1d0fdf\" y=\"147.770814\"/>\n      </g>\n     </g>\n     <g id=\"text_8\">\n      <!-- 0.2 -->\n      <g transform=\"translate(7.2 151.570032)scale(0.1 -0.1)\">\n       <use xlink:href=\"#DejaVuSans-48\"/>\n       <use x=\"63.623047\" xlink:href=\"#DejaVuSans-46\"/>\n       <use x=\"95.410156\" xlink:href=\"#DejaVuSans-50\"/>\n      </g>\n     </g>\n    </g>\n    <g id=\"ytick_4\">\n     <g id=\"line2d_9\">\n      <g>\n       <use style=\"stroke:#000000;stroke-width:0.8;\" x=\"30.103125\" xlink:href=\"#m233e1d0fdf\" y=\"114.261284\"/>\n      </g>\n     </g>\n     <g id=\"text_9\">\n      <!-- 0.3 -->\n      <defs>\n       <path d=\"M 40.578125 39.3125 \nQ 47.65625 37.796875 51.625 33 \nQ 55.609375 28.21875 55.609375 21.1875 \nQ 55.609375 10.40625 48.1875 4.484375 \nQ 40.765625 -1.421875 27.09375 -1.421875 \nQ 22.515625 -1.421875 17.65625 -0.515625 \nQ 12.796875 0.390625 7.625 2.203125 \nL 7.625 11.71875 \nQ 11.71875 9.328125 16.59375 8.109375 \nQ 21.484375 6.890625 26.8125 6.890625 \nQ 36.078125 6.890625 40.9375 10.546875 \nQ 45.796875 14.203125 45.796875 21.1875 \nQ 45.796875 27.640625 41.28125 31.265625 \nQ 36.765625 34.90625 28.71875 34.90625 \nL 20.21875 34.90625 \nL 20.21875 43.015625 \nL 29.109375 43.015625 \nQ 36.375 43.015625 40.234375 45.921875 \nQ 44.09375 48.828125 44.09375 54.296875 \nQ 44.09375 59.90625 40.109375 62.90625 \nQ 36.140625 65.921875 28.71875 65.921875 \nQ 24.65625 65.921875 20.015625 65.03125 \nQ 15.375 64.15625 9.8125 62.3125 \nL 9.8125 71.09375 \nQ 15.4375 72.65625 20.34375 73.4375 \nQ 25.25 74.21875 29.59375 74.21875 \nQ 40.828125 74.21875 47.359375 69.109375 \nQ 53.90625 64.015625 53.90625 55.328125 \nQ 53.90625 49.265625 50.4375 45.09375 \nQ 46.96875 40.921875 40.578125 39.3125 \nz\n\" id=\"DejaVuSans-51\"/>\n      </defs>\n      <g transform=\"translate(7.2 118.060503)scale(0.1 -0.1)\">\n       <use xlink:href=\"#DejaVuSans-48\"/>\n       <use x=\"63.623047\" xlink:href=\"#DejaVuSans-46\"/>\n       <use x=\"95.410156\" xlink:href=\"#DejaVuSans-51\"/>\n      </g>\n     </g>\n    </g>\n    <g id=\"ytick_5\">\n     <g id=\"line2d_10\">\n      <g>\n       <use style=\"stroke:#000000;stroke-width:0.8;\" x=\"30.103125\" xlink:href=\"#m233e1d0fdf\" y=\"80.751754\"/>\n      </g>\n     </g>\n     <g id=\"text_10\">\n      <!-- 0.4 -->\n      <g transform=\"translate(7.2 84.550973)scale(0.1 -0.1)\">\n       <use xlink:href=\"#DejaVuSans-48\"/>\n       <use x=\"63.623047\" xlink:href=\"#DejaVuSans-46\"/>\n       <use x=\"95.410156\" xlink:href=\"#DejaVuSans-52\"/>\n      </g>\n     </g>\n    </g>\n    <g id=\"ytick_6\">\n     <g id=\"line2d_11\">\n      <g>\n       <use style=\"stroke:#000000;stroke-width:0.8;\" x=\"30.103125\" xlink:href=\"#m233e1d0fdf\" y=\"47.242224\"/>\n      </g>\n     </g>\n     <g id=\"text_11\">\n      <!-- 0.5 -->\n      <defs>\n       <path d=\"M 10.796875 72.90625 \nL 49.515625 72.90625 \nL 49.515625 64.59375 \nL 19.828125 64.59375 \nL 19.828125 46.734375 \nQ 21.96875 47.46875 24.109375 47.828125 \nQ 26.265625 48.1875 28.421875 48.1875 \nQ 40.625 48.1875 47.75 41.5 \nQ 54.890625 34.8125 54.890625 23.390625 \nQ 54.890625 11.625 47.5625 5.09375 \nQ 40.234375 -1.421875 26.90625 -1.421875 \nQ 22.3125 -1.421875 17.546875 -0.640625 \nQ 12.796875 0.140625 7.71875 1.703125 \nL 7.71875 11.625 \nQ 12.109375 9.234375 16.796875 8.0625 \nQ 21.484375 6.890625 26.703125 6.890625 \nQ 35.15625 6.890625 40.078125 11.328125 \nQ 45.015625 15.765625 45.015625 23.390625 \nQ 45.015625 31 40.078125 35.4375 \nQ 35.15625 39.890625 26.703125 39.890625 \nQ 22.75 39.890625 18.8125 39.015625 \nQ 14.890625 38.140625 10.796875 36.28125 \nz\n\" id=\"DejaVuSans-53\"/>\n      </defs>\n      <g transform=\"translate(7.2 51.041443)scale(0.1 -0.1)\">\n       <use xlink:href=\"#DejaVuSans-48\"/>\n       <use x=\"63.623047\" xlink:href=\"#DejaVuSans-46\"/>\n       <use x=\"95.410156\" xlink:href=\"#DejaVuSans-53\"/>\n      </g>\n     </g>\n    </g>\n    <g id=\"ytick_7\">\n     <g id=\"line2d_12\">\n      <g>\n       <use style=\"stroke:#000000;stroke-width:0.8;\" x=\"30.103125\" xlink:href=\"#m233e1d0fdf\" y=\"13.732695\"/>\n      </g>\n     </g>\n     <g id=\"text_12\">\n      <!-- 0.6 -->\n      <g transform=\"translate(7.2 17.531913)scale(0.1 -0.1)\">\n       <use xlink:href=\"#DejaVuSans-48\"/>\n       <use x=\"63.623047\" xlink:href=\"#DejaVuSans-46\"/>\n       <use x=\"95.410156\" xlink:href=\"#DejaVuSans-54\"/>\n      </g>\n     </g>\n    </g>\n   </g>\n   <g id=\"line2d_13\">\n    <path clip-path=\"url(#p46595b95f4)\" d=\"M 45.321307 174.051023 \nL 79.139489 199.167846 \nL 112.95767 78.97483 \nL 146.775852 214.756364 \nL 180.594034 214.756364 \nL 214.412216 208.863717 \nL 248.230398 191.488152 \nL 282.04858 204.718146 \nL 315.866761 202.993296 \nL 349.684943 203.20606 \n\" style=\"fill:none;stroke:#1f77b4;stroke-linecap:square;stroke-width:1.5;\"/>\n    <defs>\n     <path d=\"M 0 -3 \nL -0.673542 -0.927051 \nL -2.85317 -0.927051 \nL -1.089814 0.354102 \nL -1.763356 2.427051 \nL -0 1.145898 \nL 1.763356 2.427051 \nL 1.089814 0.354102 \nL 2.85317 -0.927051 \nL 0.673542 -0.927051 \nz\n\" id=\"mc0bcf9cdaf\" style=\"stroke:#1f77b4;stroke-linejoin:bevel;\"/>\n    </defs>\n    <g clip-path=\"url(#p46595b95f4)\">\n     <use style=\"fill:#1f77b4;stroke:#1f77b4;stroke-linejoin:bevel;\" x=\"45.321307\" xlink:href=\"#mc0bcf9cdaf\" y=\"174.051023\"/>\n     <use style=\"fill:#1f77b4;stroke:#1f77b4;stroke-linejoin:bevel;\" x=\"79.139489\" xlink:href=\"#mc0bcf9cdaf\" y=\"199.167846\"/>\n     <use style=\"fill:#1f77b4;stroke:#1f77b4;stroke-linejoin:bevel;\" x=\"112.95767\" xlink:href=\"#mc0bcf9cdaf\" y=\"78.97483\"/>\n     <use style=\"fill:#1f77b4;stroke:#1f77b4;stroke-linejoin:bevel;\" x=\"146.775852\" xlink:href=\"#mc0bcf9cdaf\" y=\"214.756364\"/>\n     <use style=\"fill:#1f77b4;stroke:#1f77b4;stroke-linejoin:bevel;\" x=\"180.594034\" xlink:href=\"#mc0bcf9cdaf\" y=\"214.756364\"/>\n     <use style=\"fill:#1f77b4;stroke:#1f77b4;stroke-linejoin:bevel;\" x=\"214.412216\" xlink:href=\"#mc0bcf9cdaf\" y=\"208.863717\"/>\n     <use style=\"fill:#1f77b4;stroke:#1f77b4;stroke-linejoin:bevel;\" x=\"248.230398\" xlink:href=\"#mc0bcf9cdaf\" y=\"191.488152\"/>\n     <use style=\"fill:#1f77b4;stroke:#1f77b4;stroke-linejoin:bevel;\" x=\"282.04858\" xlink:href=\"#mc0bcf9cdaf\" y=\"204.718146\"/>\n     <use style=\"fill:#1f77b4;stroke:#1f77b4;stroke-linejoin:bevel;\" x=\"315.866761\" xlink:href=\"#mc0bcf9cdaf\" y=\"202.993296\"/>\n     <use style=\"fill:#1f77b4;stroke:#1f77b4;stroke-linejoin:bevel;\" x=\"349.684943\" xlink:href=\"#mc0bcf9cdaf\" y=\"203.20606\"/>\n    </g>\n   </g>\n   <g id=\"line2d_14\">\n    <path clip-path=\"url(#p46595b95f4)\" d=\"M 45.321307 17.083636 \nL 79.139489 208.087967 \nL 112.95767 201.38606 \nL 146.775852 194.684155 \nL 180.594034 211.43892 \nL 214.412216 198.035107 \nL 248.230398 184.631293 \nL 282.04858 201.38606 \nL 315.866761 198.035107 \nL 349.684943 198.035107 \n\" style=\"fill:none;stroke:#ff7f0e;stroke-linecap:square;stroke-width:1.5;\"/>\n    <defs>\n     <path d=\"M 0 1.5 \nC 0.397805 1.5 0.77937 1.341951 1.06066 1.06066 \nC 1.341951 0.77937 1.5 0.397805 1.5 0 \nC 1.5 -0.397805 1.341951 -0.77937 1.06066 -1.06066 \nC 0.77937 -1.341951 0.397805 -1.5 0 -1.5 \nC -0.397805 -1.5 -0.77937 -1.341951 -1.06066 -1.06066 \nC -1.341951 -0.77937 -1.5 -0.397805 -1.5 0 \nC -1.5 0.397805 -1.341951 0.77937 -1.06066 1.06066 \nC -0.77937 1.341951 -0.397805 1.5 0 1.5 \nz\n\" id=\"me8d9449d19\" style=\"stroke:#ff7f0e;\"/>\n    </defs>\n    <g clip-path=\"url(#p46595b95f4)\">\n     <use style=\"fill:#ff7f0e;stroke:#ff7f0e;\" x=\"45.321307\" xlink:href=\"#me8d9449d19\" y=\"17.083636\"/>\n     <use style=\"fill:#ff7f0e;stroke:#ff7f0e;\" x=\"79.139489\" xlink:href=\"#me8d9449d19\" y=\"208.087967\"/>\n     <use style=\"fill:#ff7f0e;stroke:#ff7f0e;\" x=\"112.95767\" xlink:href=\"#me8d9449d19\" y=\"201.38606\"/>\n     <use style=\"fill:#ff7f0e;stroke:#ff7f0e;\" x=\"146.775852\" xlink:href=\"#me8d9449d19\" y=\"194.684155\"/>\n     <use style=\"fill:#ff7f0e;stroke:#ff7f0e;\" x=\"180.594034\" xlink:href=\"#me8d9449d19\" y=\"211.43892\"/>\n     <use style=\"fill:#ff7f0e;stroke:#ff7f0e;\" x=\"214.412216\" xlink:href=\"#me8d9449d19\" y=\"198.035107\"/>\n     <use style=\"fill:#ff7f0e;stroke:#ff7f0e;\" x=\"248.230398\" xlink:href=\"#me8d9449d19\" y=\"184.631293\"/>\n     <use style=\"fill:#ff7f0e;stroke:#ff7f0e;\" x=\"282.04858\" xlink:href=\"#me8d9449d19\" y=\"201.38606\"/>\n     <use style=\"fill:#ff7f0e;stroke:#ff7f0e;\" x=\"315.866761\" xlink:href=\"#me8d9449d19\" y=\"198.035107\"/>\n     <use style=\"fill:#ff7f0e;stroke:#ff7f0e;\" x=\"349.684943\" xlink:href=\"#me8d9449d19\" y=\"198.035107\"/>\n    </g>\n   </g>\n   <g id=\"patch_3\">\n    <path d=\"M 30.103125 224.64 \nL 30.103125 7.2 \n\" style=\"fill:none;stroke:#000000;stroke-linecap:square;stroke-linejoin:miter;stroke-width:0.8;\"/>\n   </g>\n   <g id=\"patch_4\">\n    <path d=\"M 364.903125 224.64 \nL 364.903125 7.2 \n\" style=\"fill:none;stroke:#000000;stroke-linecap:square;stroke-linejoin:miter;stroke-width:0.8;\"/>\n   </g>\n   <g id=\"patch_5\">\n    <path d=\"M 30.103125 224.64 \nL 364.903125 224.64 \n\" style=\"fill:none;stroke:#000000;stroke-linecap:square;stroke-linejoin:miter;stroke-width:0.8;\"/>\n   </g>\n   <g id=\"patch_6\">\n    <path d=\"M 30.103125 7.2 \nL 364.903125 7.2 \n\" style=\"fill:none;stroke:#000000;stroke-linecap:square;stroke-linejoin:miter;stroke-width:0.8;\"/>\n   </g>\n  </g>\n </g>\n <defs>\n  <clipPath id=\"p46595b95f4\">\n   <rect height=\"217.44\" width=\"334.8\" x=\"30.103125\" y=\"7.2\"/>\n  </clipPath>\n </defs>\n</svg>\n",
      "image/png": "[encoded data removed]"
     },
     "metadata": {
      "needs_background": "light"
     }
    }
   ],
   "source": [
    "plt.plot(lmrpt.algosol,marker='*')\n",
    "plt.plot(Cn2,marker='.')"
   ]
  },
  {
   "cell_type": "code",
   "execution_count": null,
   "metadata": {},
   "outputs": [],
   "source": []
  }
 ],
 "metadata": {
  "language_info": {
   "codemirror_mode": {
    "name": "ipython",
    "version": 3
   },
   "file_extension": ".py",
   "mimetype": "text/x-python",
   "name": "python",
   "nbconvert_exporter": "python",
   "pygments_lexer": "ipython3",
   "version": "3.7.3-final"
  },
  "orig_nbformat": 2,
  "kernelspec": {
   "name": "python3",
   "display_name": "Python 3"
  }
 },
 "nbformat": 4,
 "nbformat_minor": 2
}